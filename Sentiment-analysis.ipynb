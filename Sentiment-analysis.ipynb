{
 "cells": [
  {
   "cell_type": "code",
   "execution_count": null,
   "id": "9e73ee33-237e-4aec-95b5-8347ff931289",
   "metadata": {},
   "outputs": [],
   "source": [
    "import logging\n",
    "logging.basicConfig(level=logging.WARNING)\n",
    "logger = logging.getLogger(__name__)\n",
    "\n",
    "from dotenv import load_dotenv\n",
    "# lädt die (versteckte) Datei die im selben Ordner liegt wie dieses notebook file\n",
    "# die Datei muss .env benannt sein, diese Dateien sind in der Regel ausgeblendet, \n",
    "# weil Dateien mit . andeuten, dass diese im Explorer ausgeblendet werden.\n",
    "# In der Datei\n",
    "load_dotenv()"
   ]
  },
  {
   "cell_type": "code",
   "execution_count": null,
   "id": "72292dc0-7b8c-4779-9c30-c1dc7a827a1e",
   "metadata": {},
   "outputs": [],
   "source": [
    "import os\n",
    "from pydantic_ai import Agent\n",
    "from pydantic import BaseModel, Field \n",
    "from pydantic_ai.models.google import GoogleModel\n",
    "from pydantic_ai.models.openai import OpenAIModel\n",
    "from pydantic_ai.providers.openai import OpenAIProvider\n",
    "from pydantic_ai.providers.google import GoogleProvider\n",
    "from pydantic_ai.providers.azure import AzureProvider\n",
    "from enum import Enum"
   ]
  },
  {
   "cell_type": "markdown",
   "id": "06a21d5d-e146-4a67-84df-b35ffd0876d9",
   "metadata": {},
   "source": [
    "# Sentiment Analyse"
   ]
  },
  {
   "cell_type": "code",
   "execution_count": null,
   "id": "cfa7f1fb-02fc-42a0-a80d-719dfcd80848",
   "metadata": {},
   "outputs": [],
   "source": [
    "class Sentiment(str, Enum):\n",
    "    POSITIVE = \"POSITIVE\"\n",
    "    NEGATIVE = \"NEGATIVE\"\n",
    "    NEUTRAL = \"NEUTRAL\"\n",
    "\n",
    "class SentimentExtractor(BaseModel):\n",
    "    sentiment: Sentiment"
   ]
  },
  {
   "cell_type": "code",
   "execution_count": null,
   "id": "3fae0259-861e-47e4-a61e-eeabf9de0602",
   "metadata": {},
   "outputs": [],
   "source": [
    "# Ein GPT Modell via Azure\n",
    "model = OpenAIModel(\n",
    "    'gpt-4o',\n",
    "    provider=AzureProvider(\n",
    "        azure_endpoint=os.environ[\"AZURE_ENDPOINT\"],\n",
    "        api_version='2025-01-01-preview',\n",
    "        api_key=os.environ[\"AZURE_KEY\"],\n",
    "    ),\n",
    ")\n",
    "\n",
    "agent = Agent(model, output_type=[SentimentExtractor])"
   ]
  },
  {
   "cell_type": "code",
   "execution_count": null,
   "id": "ae6faf78-cf2a-47a2-9daf-90196426ab76",
   "metadata": {},
   "outputs": [],
   "source": [
    "result = await agent.run(\"Das Wetter heute ist durchwachsen\")\n",
    "print(result.output.sentiment)"
   ]
  },
  {
   "cell_type": "code",
   "execution_count": null,
   "id": "b8ecb289-8dc5-4c0d-8b9f-4ac6aa084a9e",
   "metadata": {},
   "outputs": [],
   "source": [
    "result = await agent.run(\"Das Wetter heute ist super schön\")\n",
    "print(result.output.sentiment)"
   ]
  },
  {
   "cell_type": "code",
   "execution_count": null,
   "id": "c2209e8d-a6f4-4544-8b1e-7768928f9480",
   "metadata": {},
   "outputs": [],
   "source": [
    "result = await agent.run(\"Das Wetter heute ist eisig, nur Regen und kalter Wind\")\n",
    "print(result.output.sentiment)"
   ]
  },
  {
   "cell_type": "markdown",
   "id": "eafd6324-e57e-4e1a-8b11-a0c61bf59d43",
   "metadata": {},
   "source": [
    "## Aspekt-orientierter Sentiment Analysis\n",
    "Häufig genug sind Sätze aber etwas kompliziter und mehrere ASPEKTE werden erwähnt\n",
    "die eine Wertung erhalten (ein SENTIMENT)\n",
    "Wie man die bearbeitet, schauen wir uns jetzt an"
   ]
  },
  {
   "cell_type": "code",
   "execution_count": null,
   "id": "1d655244-666f-4fb8-a980-07604acdb4cf",
   "metadata": {},
   "outputs": [],
   "source": [
    "class AspektSentiment(BaseModel):\n",
    "    target: str = Field(..., description=\"Das Objekt oder Ziel einer wertenden Aussage\")\n",
    "    attribute: str = Field(..., description=\"Die Eigenschaft eines Objektes auf die Bezug genommen wird\")\n",
    "    sentiment: Sentiment\n",
    "\n",
    "class AspektSentimentExtractor(BaseModel):\n",
    "    aspects: list[AspektSentiment]   "
   ]
  },
  {
   "cell_type": "code",
   "execution_count": null,
   "id": "cee41609-2752-4873-aee6-4df4df14bd35",
   "metadata": {},
   "outputs": [],
   "source": [
    "aspect_agent = Agent(model, output_type=[AspektSentimentExtractor])"
   ]
  },
  {
   "cell_type": "code",
   "execution_count": null,
   "id": "897b05cb-36de-4fce-88b3-34c584ce5284",
   "metadata": {},
   "outputs": [],
   "source": [
    "result = await aspect_agent.run(\"Das neue Handy ist okay, die Kamera ist fantastisch aber das Display ist was dunkel und der Akku ist schwach\")"
   ]
  },
  {
   "cell_type": "code",
   "execution_count": null,
   "id": "4fc742b0-fc1b-4f02-b352-93fe84438075",
   "metadata": {},
   "outputs": [],
   "source": [
    "for aspect in result.output.aspects:\n",
    "    print(aspect)"
   ]
  },
  {
   "cell_type": "code",
   "execution_count": null,
   "id": "47b9759d-0c49-4aeb-919d-1e0b5bd603e0",
   "metadata": {},
   "outputs": [],
   "source": []
  },
  {
   "cell_type": "code",
   "execution_count": null,
   "id": "b89c9875-12f2-43dd-a2e3-75256d283a33",
   "metadata": {},
   "outputs": [],
   "source": []
  }
 ],
 "metadata": {
  "kernelspec": {
   "display_name": "Python 3 (ipykernel)",
   "language": "python",
   "name": "python3"
  },
  "language_info": {
   "codemirror_mode": {
    "name": "ipython",
    "version": 3
   },
   "file_extension": ".py",
   "mimetype": "text/x-python",
   "name": "python",
   "nbconvert_exporter": "python",
   "pygments_lexer": "ipython3",
   "version": "3.13.1"
  }
 },
 "nbformat": 4,
 "nbformat_minor": 5
}
